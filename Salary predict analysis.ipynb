{
 "cells": [
  {
   "cell_type": "markdown",
   "metadata": {},
   "source": [
    "# MLExplore\n",
    "1. [data prepare](#prepare)\n",
    "2. [build model](#model)\n",
    "3. [analysis predict model](#analysis)\n",
    "4. [reviews](#review)"
   ]
  },
  {
   "cell_type": "code",
   "execution_count": 66,
   "metadata": {},
   "outputs": [],
   "source": [
    "from copy import deepcopy\n",
    "import itertools\n",
    "import numpy as np\n",
    "import pandas as pd\n",
    "import networkx as nx\n",
    "from tqdm import tqdm\n",
    "\n",
    "#import hdbscan\n",
    "from sklearn import manifold\n",
    "from sklearn.cluster import KMeans\n",
    "from sklearn.ensemble import AdaBoostRegressor, RandomForestRegressor\n",
    "from sklearn.pipeline import Pipeline\n",
    "from sklearn.linear_model import LinearRegression\n",
    "#from xgboost import XGBClassifier\n",
    "from sklearn.model_selection import cross_val_predict\n",
    "from sklearn.model_selection import StratifiedKFold\n",
    "from sklearn.model_selection import LeaveOneOut\n",
    "from sklearn.model_selection import train_test_split, RandomizedSearchCV\n",
    "from sklearn.preprocessing import scale, MinMaxScaler, PolynomialFeatures, label_binarize\n",
    "from sklearn.decomposition import PCA\n",
    "from sklearn.base import clone\n",
    "from sklearn.metrics import r2_score,mean_squared_error\n",
    "from sklearn.svm import SVR\n",
    "\n",
    "import matplotlib.pyplot as plt\n",
    "import seaborn as sns\n",
    "#import scikitplot as skplt\n",
    "from matplotlib.ticker import NullFormatter"
   ]
  },
  {
   "cell_type": "markdown",
   "metadata": {},
   "source": [
    "## 1. prepare data <a name=\"prepare\">\n",
    "### 1.1 explore of related feature"
   ]
  },
  {
   "cell_type": "code",
   "execution_count": 67,
   "metadata": {},
   "outputs": [],
   "source": [
    "\n",
    "# Read in the survey results, shuffle results\n",
    "df = pd.read_csv('survey_results_public.csv', low_memory=False)\n",
    "schema = pd.read_csv('survey_results_schema.csv')\n",
    "\n",
    "# Columns with relation of salary\n",
    "RELATED_COLUMN = [\n",
    "    'OpenSource',\n",
    "    #'Country',\n",
    "    'HoursComputer',\n",
    "    'HoursOutside',\n",
    "    'SkipMeals',\n",
    "    'Exercise',\n",
    "    'FormalEducation',\n",
    "    'CompanySize',\n",
    "    'YearsCoding',\n",
    "    'YearsCodingProf',\n",
    "    'JobSatisfaction',\n",
    "    'CareerSatisfaction',\n",
    "    'DevType',\n",
    "]\n",
    "\n",
    "# Columns which must be specified : full-time job\n",
    "MUST_COLUMN = [\n",
    "    'Employment'\n",
    "]\n",
    "# whole year USD symbol salary\n",
    "TARGET_COLUMN = [\n",
    "    'ConvertedSalary'\n",
    "]\n"
   ]
  },
  {
   "cell_type": "code",
   "execution_count": 68,
   "metadata": {},
   "outputs": [
    {
     "name": "stdout",
     "output_type": "stream",
     "text": [
      "[['Respondent'\n",
      "  'Randomized respondent ID number (not in order of survey response time)']\n",
      " ['Hobby' 'Do you code as a hobby?']\n",
      " ['OpenSource' 'Do you contribute to open source projects?']\n",
      " ['Country' 'In which country do you currently reside?']\n",
      " ['Student'\n",
      "  'Are you currently enrolled in a formal, degree-granting college or university program?']\n",
      " ['Employment'\n",
      "  'Which of the following best describes your current employment status?']\n",
      " ['FormalEducation'\n",
      "  'Which of the following best describes the highest level of formal education that you’ve completed?']\n",
      " ['UndergradMajor'\n",
      "  \"You previously indicated that you went to a college or university. Which of the following best describes your main field of study (aka 'major')\"]\n",
      " ['CompanySize'\n",
      "  'Approximately how many people are employed by the company or organization you work for?']\n",
      " ['DevType'\n",
      "  'Which of the following describe you? Please select all that apply.']\n",
      " ['YearsCoding'\n",
      "  'Including any education, for how many years have you been coding?']\n",
      " ['YearsCodingProf'\n",
      "  'For how many years have you coded professionally (as a part of your work)?']\n",
      " ['JobSatisfaction'\n",
      "  'How satisfied are you with your current job? If you work more than one job, please answer regarding the one you spend the most hours on.']\n",
      " ['CareerSatisfaction'\n",
      "  'Overall, how satisfied are you with your career thus far?']\n",
      " ['HopeFiveYears'\n",
      "  'Which of the following best describes what you hope to be doing in five years?']\n",
      " ['JobSearchStatus'\n",
      "  'Which of the following best describes your current job-seeking status?']\n",
      " ['LastNewJob'\n",
      "  'When was the last time that you took a job with a new employer?']\n",
      " ['AssessJob1'\n",
      "  \"Imagine that you are assessing a potential job opportunity. Please rank the following aspects of the job opportunity in order of importance (by dragging the choices up and down), where 1 is the most important and 10 is the least important. The industry that I'd be working in\"]\n",
      " ['AssessJob2'\n",
      "  'Imagine that you are assessing a potential job opportunity. Please rank the following aspects of the job opportunity in order of importance (by dragging the choices up and down), where 1 is the most important and 10 is the least important. The financial performance or funding status of the company or organization']\n",
      " ['AssessJob3'\n",
      "  \"Imagine that you are assessing a potential job opportunity. Please rank the following aspects of the job opportunity in order of importance (by dragging the choices up and down), where 1 is the most important and 10 is the least important. The specific department or team I'd be working on\"]\n",
      " ['AssessJob4'\n",
      "  \"Imagine that you are assessing a potential job opportunity. Please rank the following aspects of the job opportunity in order of importance (by dragging the choices up and down), where 1 is the most important and 10 is the least important. The languages, frameworks, and other technologies I'd be working with\"]\n",
      " ['AssessJob5'\n",
      "  'Imagine that you are assessing a potential job opportunity. Please rank the following aspects of the job opportunity in order of importance (by dragging the choices up and down), where 1 is the most important and 10 is the least important. The compensation and benefits offered']\n",
      " ['AssessJob6'\n",
      "  'Imagine that you are assessing a potential job opportunity. Please rank the following aspects of the job opportunity in order of importance (by dragging the choices up and down), where 1 is the most important and 10 is the least important. The office environment or company culture']\n",
      " ['AssessJob7'\n",
      "  'Imagine that you are assessing a potential job opportunity. Please rank the following aspects of the job opportunity in order of importance (by dragging the choices up and down), where 1 is the most important and 10 is the least important. The opportunity to work from home/remotely']\n",
      " ['AssessJob8'\n",
      "  'Imagine that you are assessing a potential job opportunity. Please rank the following aspects of the job opportunity in order of importance (by dragging the choices up and down), where 1 is the most important and 10 is the least important. Opportunities for professional development']\n",
      " ['AssessJob9'\n",
      "  'Imagine that you are assessing a potential job opportunity. Please rank the following aspects of the job opportunity in order of importance (by dragging the choices up and down), where 1 is the most important and 10 is the least important. The diversity of the company or organization']\n",
      " ['AssessJob10'\n",
      "  \"Imagine that you are assessing a potential job opportunity. Please rank the following aspects of the job opportunity in order of importance (by dragging the choices up and down), where 1 is the most important and 10 is the least important. How widely used or impactful the product or service I'd be working on is\"]\n",
      " ['AssessBenefits1'\n",
      "  \"Now, imagine you are assessing a job's benefits package. Please rank the following aspects of a job's benefits package from most to least important to you (by dragging the choices up and down), where 1 is most important and 11 is least important. Salary and/or bonuses\"]\n",
      " ['AssessBenefits2'\n",
      "  \"Now, imagine you are assessing a job's benefits package. Please rank the following aspects of a job's benefits package from most to least important to you (by dragging the choices up and down), where 1 is most important and 11 is least important. Stock options or shares\"]\n",
      " ['AssessBenefits3'\n",
      "  \"Now, imagine you are assessing a job's benefits package. Please rank the following aspects of a job's benefits package from most to least important to you (by dragging the choices up and down), where 1 is most important and 11 is least important. Health insurance\"]\n",
      " ['AssessBenefits4'\n",
      "  \"Now, imagine you are assessing a job's benefits package. Please rank the following aspects of a job's benefits package from most to least important to you (by dragging the choices up and down), where 1 is most important and 11 is least important. Parental leave\"]\n",
      " ['AssessBenefits5'\n",
      "  \"Now, imagine you are assessing a job's benefits package. Please rank the following aspects of a job's benefits package from most to least important to you (by dragging the choices up and down), where 1 is most important and 11 is least important. Fitness or wellness benefit (ex. gym membership, nutritionist)\"]\n",
      " ['AssessBenefits6'\n",
      "  \"Now, imagine you are assessing a job's benefits package. Please rank the following aspects of a job's benefits package from most to least important to you (by dragging the choices up and down), where 1 is most important and 11 is least important. Retirement or pension savings matching\"]\n",
      " ['AssessBenefits7'\n",
      "  \"Now, imagine you are assessing a job's benefits package. Please rank the following aspects of a job's benefits package from most to least important to you (by dragging the choices up and down), where 1 is most important and 11 is least important. Company-provided meals or snacks\"]\n",
      " ['AssessBenefits8'\n",
      "  \"Now, imagine you are assessing a job's benefits package. Please rank the following aspects of a job's benefits package from most to least important to you (by dragging the choices up and down), where 1 is most important and 11 is least important. Computer/office equipment allowance\"]\n",
      " ['AssessBenefits9'\n",
      "  \"Now, imagine you are assessing a job's benefits package. Please rank the following aspects of a job's benefits package from most to least important to you (by dragging the choices up and down), where 1 is most important and 11 is least important. Childcare benefit\"]\n",
      " ['AssessBenefits10'\n",
      "  \"Now, imagine you are assessing a job's benefits package. Please rank the following aspects of a job's benefits package from most to least important to you (by dragging the choices up and down), where 1 is most important and 11 is least important. Transportation benefit (ex. company-provided transportation, public transit allowance)\"]\n",
      " ['AssessBenefits11'\n",
      "  \"Now, imagine you are assessing a job's benefits package. Please rank the following aspects of a job's benefits package from most to least important to you (by dragging the choices up and down), where 1 is most important and 11 is least important. Conference or education budget\"]\n",
      " ['JobContactPriorities1'\n",
      "  'Imagine that a company wanted to contact you about a job that is a good fit for you. Please rank your preference in how you are contacted (by dragging the choices up and down), where 1 is the most preferred and 5 is the least preferred. Telephone call']\n",
      " ['JobContactPriorities2'\n",
      "  'Imagine that a company wanted to contact you about a job that is a good fit for you. Please rank your preference in how you are contacted (by dragging the choices up and down), where 1 is the most preferred and 5 is the least preferred. Email to my private address']\n",
      " ['JobContactPriorities3'\n",
      "  'Imagine that a company wanted to contact you about a job that is a good fit for you. Please rank your preference in how you are contacted (by dragging the choices up and down), where 1 is the most preferred and 5 is the least preferred. Email to my work address']\n",
      " ['JobContactPriorities4'\n",
      "  'Imagine that a company wanted to contact you about a job that is a good fit for you. Please rank your preference in how you are contacted (by dragging the choices up and down), where 1 is the most preferred and 5 is the least preferred. Message on a job site']\n",
      " ['JobContactPriorities5'\n",
      "  'Imagine that a company wanted to contact you about a job that is a good fit for you. Please rank your preference in how you are contacted (by dragging the choices up and down), where 1 is the most preferred and 5 is the least preferred. Message on a social media site']\n",
      " ['JobEmailPriorities1'\n",
      "  \"Imagine that same company decided to contact you through email. Please rank the following items by how important it is to include them in the message (by dragging the choices up and down), where 1 is the most important and 7 is the least important. Details on the company I'd be working for\"]\n",
      " ['JobEmailPriorities2'\n",
      "  \"Imagine that same company decided to contact you through email. Please rank the following items by how important it is to include them in the message (by dragging the choices up and down), where 1 is the most important and 7 is the least important. Details on the specific department I'd be working for or product I'd be working on\"]\n",
      " ['JobEmailPriorities3'\n",
      "  \"Imagine that same company decided to contact you through email. Please rank the following items by how important it is to include them in the message (by dragging the choices up and down), where 1 is the most important and 7 is the least important. Specifics of why they think I'd be a good fit for the role (ex. my prior work history, projects on GitHub)\"]\n",
      " ['JobEmailPriorities4'\n",
      "  \"Imagine that same company decided to contact you through email. Please rank the following items by how important it is to include them in the message (by dragging the choices up and down), where 1 is the most important and 7 is the least important. Details of which technologies I'd be working with\"]\n",
      " ['JobEmailPriorities5'\n",
      "  'Imagine that same company decided to contact you through email. Please rank the following items by how important it is to include them in the message (by dragging the choices up and down), where 1 is the most important and 7 is the least important. An estimate of the compensation range']\n",
      " ['JobEmailPriorities6'\n",
      "  \"Imagine that same company decided to contact you through email. Please rank the following items by how important it is to include them in the message (by dragging the choices up and down), where 1 is the most important and 7 is the least important. Information on the company's hiring process\"]\n",
      " ['JobEmailPriorities7'\n",
      "  \"Imagine that same company decided to contact you through email. Please rank the following items by how important it is to include them in the message (by dragging the choices up and down), where 1 is the most important and 7 is the least important. Details on the company's product development process\"]\n",
      " ['UpdateCV'\n",
      "  'Think back to the last time you updated your resumé, CV, or an online profile on a job site. What is the main reason that you did so?']\n",
      " ['Currency'\n",
      "  \"Which currency do you use day-to-day? If your answer is complicated, please pick the one you're most comfortable estimating in.\"]\n",
      " ['Salary'\n",
      "  'What is your current gross salary (before taxes and deductions), in ${q://QID50/ChoiceGroup/SelectedChoicesTextEntry}? Please enter a whole number in the box below, without any punctuation. If you are paid hourly, please estimate an equivalent weekly, monthly, or yearly salary. If you prefer not to answer, please leave the box empty.']\n",
      " ['SalaryType' 'Is that salary weekly, monthly, or yearly?']\n",
      " ['ConvertedSalary'\n",
      "  'Salary converted to annual USD salaries using the exchange rate on 2018-01-18, assuming 12 working months and 50 working weeks.']\n",
      " ['CurrencySymbol' 'Three digit currency abbreviation.']\n",
      " ['CommunicationTools'\n",
      "  'Which of the following tools do you use to communicate, coordinate, or share knowledge with your coworkers? Please select all that apply.']\n",
      " ['TimeFullyProductive'\n",
      "  \"Suppose a new developer with four years of experience, including direct experience working with your company's main technical stack, joined your team tomorrow.  All other things being equal, how long would you expect it to take before they were fully productive and contributing at a typical level to your main code base?\"]\n",
      " ['EducationTypes'\n",
      "  'Which of the following types of non-degree education have you used or participated in? Please select all that apply.']\n",
      " ['SelfTaughtTypes'\n",
      "  'You indicated that you had taught yourself a programming technology without taking a course. What resources did you use to do that? If you’ve done it more than once, please think about the most recent time you’ve done so. Please select all that apply.']\n",
      " ['TimeAfterBootcamp'\n",
      "  'You indicated previously that you went through a developer training program or bootcamp. How long did it take you to get a full-time job as a developer after graduating?']\n",
      " ['HackathonReasons'\n",
      "  'You indicated previously that you had participated in an online coding competition or hackathon.  Which of the following best describe your reasons for doing so?']\n",
      " ['AgreeDisagree1'\n",
      "  'To what extent do you agree or disagree with each of the following statements? I feel a sense of kinship or connection to other developers']\n",
      " ['AgreeDisagree2'\n",
      "  'To what extent do you agree or disagree with each of the following statements? I think of myself as competing with my peers']\n",
      " ['AgreeDisagree3'\n",
      "  \"To what extent do you agree or disagree with each of the following statements? I'm not as good at programming as most of my peers\"]\n",
      " ['LanguageWorkedWith'\n",
      "  'Which of the following programming, scripting, and markup languages have you done extensive development work in over the past year, and which do you want to work in over the next year?  (If you both worked with the language and want to continue to do so, please check both boxes in that row.)']\n",
      " ['LanguageDesireNextYear'\n",
      "  'Which of the following programming, scripting, and markup languages have you done extensive development work in over the past year, and which do you want to work in over the next year?  (If you both worked with the language and want to continue to do so, please check both boxes in that row.)']\n",
      " ['DatabaseWorkedWith'\n",
      "  'Which of the following database environments have you done extensive development work in over the past year, and which do you want to work in over the next year?   (If you both worked with the database and want to continue to do so, please check both boxes in that row.)']\n",
      " ['DatabaseDesireNextYear'\n",
      "  'Which of the following database environments have you done extensive development work in over the past year, and which do you want to work in over the next year?   (If you both worked with the database and want to continue to do so, please check both boxes in that row.)']\n",
      " ['PlatformWorkedWith'\n",
      "  'Which of the following platforms have you done extensive development work for over the past year?   (If you both developed for the platform and want to continue to do so, please check both boxes in that row.)']\n",
      " ['PlatformDesireNextYear'\n",
      "  'Which of the following platforms have you done extensive development work for over the past year?   (If you both developed for the platform and want to continue to do so, please check both boxes in that row.)']\n",
      " ['FrameworkWorkedWith'\n",
      "  'Which of the following libraries, frameworks, and tools have you done extensive development work in over the past year, and which do you want to work in over the next year?']\n",
      " ['FrameworkDesireNextYear'\n",
      "  'Which of the following libraries, frameworks, and tools have you done extensive development work in over the past year, and which do you want to work in over the next year?']\n",
      " ['IDE'\n",
      "  'Which development environment(s) do you use regularly?  Please check all that apply.']\n",
      " ['OperatingSystem'\n",
      "  'What is the primary operating system in which you work?']\n",
      " ['NumberMonitors' 'How many monitors are set up at your workstation?']\n",
      " ['Methodology'\n",
      "  'Which of the following methodologies do you have experience working in?']\n",
      " ['VersionControl'\n",
      "  'What version control systems do you use regularly? Please select all that apply.']\n",
      " ['CheckInCode'\n",
      "  'Over the last year, how often have you checked-in or committed code?']\n",
      " ['AdBlocker'\n",
      "  'Do you have ad-blocking software installed on any computers you use regularly?']\n",
      " ['AdBlockerDisable'\n",
      "  'In the past month, have you disabled your ad blocker for any reason, even temporarily or for a specific website?']\n",
      " ['AdBlockerReasons'\n",
      "  'What are the reasons that you have disabled your ad blocker in the past month? Please select all that apply.']\n",
      " ['AdsAgreeDisagree1'\n",
      "  'To what extent do you agree or disagree with the following statements: Online advertising can be valuable when it is relevant to me']\n",
      " ['AdsAgreeDisagree2'\n",
      "  'To what extent do you agree or disagree with the following statements: I enjoy seeing online updates from companies that I like']\n",
      " ['AdsAgreeDisagree3'\n",
      "  'To what extent do you agree or disagree with the following statements: I fundamentally dislike the concept of advertising']\n",
      " ['AdsActions'\n",
      "  'Which of the following actions have you taken in the past month? Please select all that apply.']\n",
      " ['AdsPriorities1'\n",
      "  'Please rank the following advertising qualities in order of their importance to you (by dragging the choices up and down), where 1 is the most important, and 7 is the least important. The advertisement is relevant to me']\n",
      " ['AdsPriorities2'\n",
      "  'Please rank the following advertising qualities in order of their importance to you (by dragging the choices up and down), where 1 is the most important, and 7 is the least important. The advertisement is honest about its goals']\n",
      " ['AdsPriorities3'\n",
      "  'Please rank the following advertising qualities in order of their importance to you (by dragging the choices up and down), where 1 is the most important, and 7 is the least important. The advertisement provides useful information']\n",
      " ['AdsPriorities4'\n",
      "  'Please rank the following advertising qualities in order of their importance to you (by dragging the choices up and down), where 1 is the most important, and 7 is the least important. The advertisement seems trustworthy']\n",
      " ['AdsPriorities5'\n",
      "  'Please rank the following advertising qualities in order of their importance to you (by dragging the choices up and down), where 1 is the most important, and 7 is the least important. The advertisement is from a company that I like']\n",
      " ['AdsPriorities6'\n",
      "  'Please rank the following advertising qualities in order of their importance to you (by dragging the choices up and down), where 1 is the most important, and 7 is the least important. The advertisement offers something of value, like a free trial']\n",
      " ['AdsPriorities7'\n",
      "  'Please rank the following advertising qualities in order of their importance to you (by dragging the choices up and down), where 1 is the most important, and 7 is the least important. The advertisement avoids fluffy or vague language']\n",
      " ['AIDangerous'\n",
      "  'What do you think is the most dangerous aspect of increasingly advanced AI technology?']\n",
      " ['AIInteresting'\n",
      "  'What do you think is the most exciting aspect of increasingly advanced AI technology?']\n",
      " ['AIResponsible'\n",
      "  'Whose responsibility is it, <u>primarily</u>, to consider the ramifications of increasingly advanced AI technology?']\n",
      " ['AIFuture'\n",
      "  \"Overall, what's your take on the future of artificial intelligence?\"]\n",
      " ['EthicsChoice'\n",
      "  'Imagine that you were asked to write code for a purpose or product that you consider extremely unethical. Do you write the code anyway?']\n",
      " ['EthicsReport'\n",
      "  'Do you report or otherwise call out the unethical code in question?']\n",
      " ['EthicsResponsible'\n",
      "  'Who do you believe is ultimately most responsible for code that accomplishes something unethical?']\n",
      " ['EthicalImplications'\n",
      "  'Do you believe that you have an obligation to consider the ethical implications of the code that you write?']\n",
      " ['StackOverflowRecommend'\n",
      "  'How likely is it that you would recommend Stack Overflow overall to a friend or colleague? Where 0 is not likely at all and 10 is very likely.']\n",
      " ['StackOverflowVisit'\n",
      "  'How frequently would you say you visit Stack Overflow?']\n",
      " ['StackOverflowHasAccount' 'Do you have a Stack Overflow account?']\n",
      " ['StackOverflowParticipate'\n",
      "  'How frequently would you say you participate in Q&A on Stack Overflow? By participate we mean ask, answer, vote for, or comment on questions.']\n",
      " ['StackOverflowJobs'\n",
      "  'Have you ever used or visited Stack Overflow Jobs?']\n",
      " ['StackOverflowDevStory'\n",
      "  'Do you have an up-to-date Developer Story on Stack Overflow?']\n",
      " ['StackOverflowJobsRecommend'\n",
      "  'How likely is it that you would recommend Stack Overflow Jobs to a friend or colleague? Where 0 is not likely at all and 10 is very likely.']\n",
      " ['StackOverflowConsiderMember'\n",
      "  'Do you consider yourself a member of the Stack Overflow community?']\n",
      " ['HypotheticalTools1'\n",
      "  'Please rate your interest in participating in each of the following hypothetical tools on Stack Overflow, where 1 is not at all interested and 5 is extremely interested. A peer mentoring system']\n",
      " ['HypotheticalTools2'\n",
      "  'Please rate your interest in participating in each of the following hypothetical tools on Stack Overflow, where 1 is not at all interested and 5 is extremely interested. A private area for people new to programming']\n",
      " ['HypotheticalTools3'\n",
      "  'Please rate your interest in participating in each of the following hypothetical tools on Stack Overflow, where 1 is not at all interested and 5 is extremely interested. A programming-oriented blog platform']\n",
      " ['HypotheticalTools4'\n",
      "  'Please rate your interest in participating in each of the following hypothetical tools on Stack Overflow, where 1 is not at all interested and 5 is extremely interested. An employer or job review system']\n",
      " ['HypotheticalTools5'\n",
      "  'Please rate your interest in participating in each of the following hypothetical tools on Stack Overflow, where 1 is not at all interested and 5 is extremely interested. An area for Q&A related to career growth']\n",
      " ['WakeTime' 'On days when you work, what time do you typically wake up?']\n",
      " ['HoursComputer'\n",
      "  'On a typical day, how much time do you spend on a desktop or laptop computer?']\n",
      " ['HoursOutside' 'On a typical day, how much time do you spend outside?']\n",
      " ['SkipMeals'\n",
      "  'In a typical week, how many times do you skip a meal in order to be more productive?']\n",
      " ['ErgonomicDevices'\n",
      "  'What ergonomic furniture or devices do you use on a regular basis? Please select all that apply.']\n",
      " ['Exercise' 'In a typical week, how many times do you exercise?']\n",
      " ['Gender'\n",
      "  'Which of the following do you currently identify as? Please select all that apply. If you prefer not to answer, you may leave this question blank.']\n",
      " ['SexualOrientation'\n",
      "  'Which of the following do you currently identify as? Please select all that apply. If you prefer not to answer, you may leave this question blank.']\n",
      " ['EducationParents'\n",
      "  'What is the highest level of education received by either of your parents? If you prefer not to answer, you may leave this question blank.']\n",
      " ['RaceEthnicity'\n",
      "  'Which of the following do you identify as? Please check all that apply. If you prefer not to answer, you may leave this question blank.']\n",
      " ['Age'\n",
      "  'What is your age? If you prefer not to answer, you may leave this question blank.']\n",
      " ['Dependents'\n",
      "  'Do you have any children or other dependents that you care for? If you prefer not to answer, you may leave this question blank.']\n",
      " ['MilitaryUS'\n",
      "  'Are you currently serving or have you ever served in the U.S. Military?']\n",
      " ['SurveyTooLong'\n",
      "  'How do you feel about the length of the survey that you just completed?']\n"
     ]
    },
    {
     "name": "stdout",
     "output_type": "stream",
     "text": [
      " ['SurveyEasy' 'How easy or difficult was this survey to complete?']]\n"
     ]
    }
   ],
   "source": [
    "print(schema.values)"
   ]
  },
  {
   "cell_type": "code",
   "execution_count": 69,
   "metadata": {},
   "outputs": [
    {
     "name": "stdout",
     "output_type": "stream",
     "text": [
      "[['OpenSource' 'Do you contribute to open source projects?']]\n",
      "[['HoursComputer'\n",
      "  'On a typical day, how much time do you spend on a desktop or laptop computer?']]\n",
      "[['HoursOutside' 'On a typical day, how much time do you spend outside?']]\n",
      "[['SkipMeals'\n",
      "  'In a typical week, how many times do you skip a meal in order to be more productive?']]\n",
      "[['Exercise' 'In a typical week, how many times do you exercise?']]\n",
      "[['FormalEducation'\n",
      "  'Which of the following best describes the highest level of formal education that you’ve completed?']]\n",
      "[['CompanySize'\n",
      "  'Approximately how many people are employed by the company or organization you work for?']]\n",
      "[['YearsCoding'\n",
      "  'Including any education, for how many years have you been coding?']]\n",
      "[['YearsCodingProf'\n",
      "  'For how many years have you coded professionally (as a part of your work)?']]\n",
      "[['JobSatisfaction'\n",
      "  'How satisfied are you with your current job? If you work more than one job, please answer regarding the one you spend the most hours on.']]\n",
      "[['CareerSatisfaction'\n",
      "  'Overall, how satisfied are you with your career thus far?']]\n",
      "[['DevType'\n",
      "  'Which of the following describe you? Please select all that apply.']]\n"
     ]
    }
   ],
   "source": [
    "for col in RELATED_COLUMN:\n",
    "    print(schema[schema.Column == col].values)"
   ]
  },
  {
   "cell_type": "markdown",
   "metadata": {},
   "source": [
    "### 1.2 preprocessing\n",
    "\n",
    "multiple options, missing data, categories and so on"
   ]
  },
  {
   "cell_type": "code",
   "execution_count": 70,
   "metadata": {},
   "outputs": [
    {
     "data": {
      "text/html": [
       "<div>\n",
       "<style scoped>\n",
       "    .dataframe tbody tr th:only-of-type {\n",
       "        vertical-align: middle;\n",
       "    }\n",
       "\n",
       "    .dataframe tbody tr th {\n",
       "        vertical-align: top;\n",
       "    }\n",
       "\n",
       "    .dataframe thead th {\n",
       "        text-align: right;\n",
       "    }\n",
       "</style>\n",
       "<table border=\"1\" class=\"dataframe\">\n",
       "  <thead>\n",
       "    <tr style=\"text-align: right;\">\n",
       "      <th></th>\n",
       "      <th>OpenSource</th>\n",
       "      <th>HoursComputer</th>\n",
       "      <th>HoursOutside</th>\n",
       "      <th>SkipMeals</th>\n",
       "      <th>Exercise</th>\n",
       "      <th>FormalEducation</th>\n",
       "      <th>CompanySize</th>\n",
       "      <th>YearsCoding</th>\n",
       "      <th>YearsCodingProf</th>\n",
       "      <th>JobSatisfaction</th>\n",
       "      <th>CareerSatisfaction</th>\n",
       "      <th>DevType</th>\n",
       "      <th>Employment</th>\n",
       "      <th>ConvertedSalary</th>\n",
       "    </tr>\n",
       "  </thead>\n",
       "  <tbody>\n",
       "    <tr>\n",
       "      <th>1</th>\n",
       "      <td>Yes</td>\n",
       "      <td>5 - 8 hours</td>\n",
       "      <td>30 - 59 minutes</td>\n",
       "      <td>Never</td>\n",
       "      <td>Daily or almost every day</td>\n",
       "      <td>Bachelor’s degree (BA, BS, B.Eng., etc.)</td>\n",
       "      <td>10,000 or more employees</td>\n",
       "      <td>30 or more years</td>\n",
       "      <td>18-20 years</td>\n",
       "      <td>Moderately dissatisfied</td>\n",
       "      <td>Neither satisfied nor dissatisfied</td>\n",
       "      <td>Database administrator;DevOps specialist;Full-...</td>\n",
       "      <td>Employed full-time</td>\n",
       "      <td>70841.0</td>\n",
       "    </tr>\n",
       "    <tr>\n",
       "      <th>4</th>\n",
       "      <td>No</td>\n",
       "      <td>Over 12 hours</td>\n",
       "      <td>1 - 2 hours</td>\n",
       "      <td>Never</td>\n",
       "      <td>3 - 4 times per week</td>\n",
       "      <td>Some college/university study without earning ...</td>\n",
       "      <td>10,000 or more employees</td>\n",
       "      <td>6-8 years</td>\n",
       "      <td>0-2 years</td>\n",
       "      <td>Slightly satisfied</td>\n",
       "      <td>Moderately satisfied</td>\n",
       "      <td>Data or business analyst;Desktop or enterprise...</td>\n",
       "      <td>Employed full-time</td>\n",
       "      <td>21426.0</td>\n",
       "    </tr>\n",
       "    <tr>\n",
       "      <th>5</th>\n",
       "      <td>No</td>\n",
       "      <td>9 - 12 hours</td>\n",
       "      <td>30 - 59 minutes</td>\n",
       "      <td>1 - 2 times per week</td>\n",
       "      <td>1 - 2 times per week</td>\n",
       "      <td>Bachelor’s degree (BA, BS, B.Eng., etc.)</td>\n",
       "      <td>10 to 19 employees</td>\n",
       "      <td>6-8 years</td>\n",
       "      <td>3-5 years</td>\n",
       "      <td>Moderately satisfied</td>\n",
       "      <td>Slightly satisfied</td>\n",
       "      <td>Back-end developer;Database administrator;Fron...</td>\n",
       "      <td>Employed full-time</td>\n",
       "      <td>41671.0</td>\n",
       "    </tr>\n",
       "    <tr>\n",
       "      <th>6</th>\n",
       "      <td>Yes</td>\n",
       "      <td>Over 12 hours</td>\n",
       "      <td>Less than 30 minutes</td>\n",
       "      <td>1 - 2 times per week</td>\n",
       "      <td>I don't typically exercise</td>\n",
       "      <td>Some college/university study without earning ...</td>\n",
       "      <td>10,000 or more employees</td>\n",
       "      <td>9-11 years</td>\n",
       "      <td>0-2 years</td>\n",
       "      <td>Slightly satisfied</td>\n",
       "      <td>Moderately satisfied</td>\n",
       "      <td>Back-end developer;Front-end developer;Full-st...</td>\n",
       "      <td>Employed full-time</td>\n",
       "      <td>120000.0</td>\n",
       "    </tr>\n",
       "    <tr>\n",
       "      <th>8</th>\n",
       "      <td>Yes</td>\n",
       "      <td>9 - 12 hours</td>\n",
       "      <td>Less than 30 minutes</td>\n",
       "      <td>1 - 2 times per week</td>\n",
       "      <td>I don't typically exercise</td>\n",
       "      <td>Some college/university study without earning ...</td>\n",
       "      <td>100 to 499 employees</td>\n",
       "      <td>30 or more years</td>\n",
       "      <td>21-23 years</td>\n",
       "      <td>Moderately satisfied</td>\n",
       "      <td>Moderately satisfied</td>\n",
       "      <td>Back-end developer;C-suite executive (CEO, CTO...</td>\n",
       "      <td>Employed full-time</td>\n",
       "      <td>250000.0</td>\n",
       "    </tr>\n",
       "  </tbody>\n",
       "</table>\n",
       "</div>"
      ],
      "text/plain": [
       "  OpenSource  HoursComputer          HoursOutside             SkipMeals  \\\n",
       "1        Yes    5 - 8 hours       30 - 59 minutes                 Never   \n",
       "4         No  Over 12 hours           1 - 2 hours                 Never   \n",
       "5         No   9 - 12 hours       30 - 59 minutes  1 - 2 times per week   \n",
       "6        Yes  Over 12 hours  Less than 30 minutes  1 - 2 times per week   \n",
       "8        Yes   9 - 12 hours  Less than 30 minutes  1 - 2 times per week   \n",
       "\n",
       "                     Exercise  \\\n",
       "1   Daily or almost every day   \n",
       "4        3 - 4 times per week   \n",
       "5        1 - 2 times per week   \n",
       "6  I don't typically exercise   \n",
       "8  I don't typically exercise   \n",
       "\n",
       "                                     FormalEducation  \\\n",
       "1           Bachelor’s degree (BA, BS, B.Eng., etc.)   \n",
       "4  Some college/university study without earning ...   \n",
       "5           Bachelor’s degree (BA, BS, B.Eng., etc.)   \n",
       "6  Some college/university study without earning ...   \n",
       "8  Some college/university study without earning ...   \n",
       "\n",
       "                CompanySize       YearsCoding YearsCodingProf  \\\n",
       "1  10,000 or more employees  30 or more years     18-20 years   \n",
       "4  10,000 or more employees         6-8 years       0-2 years   \n",
       "5        10 to 19 employees         6-8 years       3-5 years   \n",
       "6  10,000 or more employees        9-11 years       0-2 years   \n",
       "8      100 to 499 employees  30 or more years     21-23 years   \n",
       "\n",
       "           JobSatisfaction                  CareerSatisfaction  \\\n",
       "1  Moderately dissatisfied  Neither satisfied nor dissatisfied   \n",
       "4       Slightly satisfied                Moderately satisfied   \n",
       "5     Moderately satisfied                  Slightly satisfied   \n",
       "6       Slightly satisfied                Moderately satisfied   \n",
       "8     Moderately satisfied                Moderately satisfied   \n",
       "\n",
       "                                             DevType          Employment  \\\n",
       "1  Database administrator;DevOps specialist;Full-...  Employed full-time   \n",
       "4  Data or business analyst;Desktop or enterprise...  Employed full-time   \n",
       "5  Back-end developer;Database administrator;Fron...  Employed full-time   \n",
       "6  Back-end developer;Front-end developer;Full-st...  Employed full-time   \n",
       "8  Back-end developer;C-suite executive (CEO, CTO...  Employed full-time   \n",
       "\n",
       "   ConvertedSalary  \n",
       "1          70841.0  \n",
       "4          21426.0  \n",
       "5          41671.0  \n",
       "6         120000.0  \n",
       "8         250000.0  "
      ]
     },
     "execution_count": 70,
     "metadata": {},
     "output_type": "execute_result"
    }
   ],
   "source": [
    "# Pick off data science types\n",
    "all_col = RELATED_COLUMN\n",
    "all_col.extend(MUST_COLUMN)\n",
    "all_col.extend(TARGET_COLUMN)\n",
    "all_col\n",
    "df = df[all_col]\n",
    "df[df.Employment == 'Employed part-time']\n",
    "df.dropna(subset=['ConvertedSalary'], inplace=True)\n",
    "df.head()"
   ]
  },
  {
   "cell_type": "code",
   "execution_count": 71,
   "metadata": {},
   "outputs": [
    {
     "name": "stdout",
     "output_type": "stream",
     "text": [
      "Bachelor’s degree (BA, BS, B.Eng., etc.)                                              22824\n",
      "Master’s degree (MA, MS, M.Eng., MBA, etc.)                                           11179\n",
      "Some college/university study without earning a degree                                 6103\n",
      "Secondary school (e.g. American high school, German Realschule or Gymnasium, etc.)     3021\n",
      "Associate degree                                                                       1513\n",
      "Other doctoral degree (Ph.D, Ed.D., etc.)                                              1191\n",
      "Professional degree (JD, MD, etc.)                                                      612\n",
      "Primary/elementary school                                                               388\n",
      "I never completed any formal education                                                  177\n",
      "Name: FormalEducation, dtype: int64\n"
     ]
    },
    {
     "data": {
      "text/plain": [
       "<matplotlib.axes._subplots.AxesSubplot at 0x1e61b6bc278>"
      ]
     },
     "execution_count": 71,
     "metadata": {},
     "output_type": "execute_result"
    },
    {
     "data": {
      "image/png": "[encoded data removed]",
      "text/plain": [
       "<Figure size 432x288 with 1 Axes>"
      ]
     },
     "metadata": {
      "needs_background": "light"
     },
     "output_type": "display_data"
    }
   ],
   "source": [
    "FormalEducation = df['FormalEducation'].value_counts()\n",
    "print(FormalEducation)\n",
    "sns.barplot(x = FormalEducation, y = FormalEducation.index)"
   ]
  },
  {
   "cell_type": "code",
   "execution_count": 72,
   "metadata": {},
   "outputs": [],
   "source": [
    "fe_map={\n",
    "    'I never completed any formal education':0,\n",
    "    'Primary/elementary school':1,\n",
    "    'Some college/university study without earning a degree':2,\n",
    "    'Associate degree': 3,\n",
    "    'Bachelor’s degree (BA, BS, B.Eng., etc.)':4,\n",
    "    'Master’s degree (MA, MS, M.Eng., MBA, etc.)':5,\n",
    "    'Professional degree (JD, MD, etc.)':6,\n",
    "    'Other doctoral degree (Ph.D, Ed.D., etc.)':7,\n",
    "}\n",
    "df['FormalEducation'] = df['FormalEducation'].map(fe_map)"
   ]
  },
  {
   "cell_type": "code",
   "execution_count": 73,
   "metadata": {},
   "outputs": [
    {
     "name": "stdout",
     "output_type": "stream",
     "text": [
      "20 to 99 employees          9775\n",
      "100 to 499 employees        8141\n",
      "10,000 or more employees    5756\n",
      "1,000 to 4,999 employees    4529\n",
      "10 to 19 employees          4373\n",
      "Fewer than 10 employees     3952\n",
      "500 to 999 employees        2668\n",
      "5,000 to 9,999 employees    1766\n",
      "Name: CompanySize, dtype: int64\n"
     ]
    },
    {
     "data": {
      "text/plain": [
       "<matplotlib.axes._subplots.AxesSubplot at 0x1e61b4f7208>"
      ]
     },
     "execution_count": 73,
     "metadata": {},
     "output_type": "execute_result"
    },
    {
     "data": {
      "image/png": "[encoded data removed]",
      "text/plain": [
       "<Figure size 432x288 with 1 Axes>"
      ]
     },
     "metadata": {
      "needs_background": "light"
     },
     "output_type": "display_data"
    }
   ],
   "source": [
    "CompanySize = df['CompanySize'].value_counts()\n",
    "print(CompanySize)\n",
    "sns.barplot(x = CompanySize, y = CompanySize.index)"
   ]
  },
  {
   "cell_type": "code",
   "execution_count": 74,
   "metadata": {},
   "outputs": [],
   "source": [
    "cs_map = {\n",
    "    'Fewer than 10 employees':0,\n",
    "    '10 to 19 employees':1,\n",
    "    '20 to 99 employees':2,\n",
    "    '100 to 499 employees':3,\n",
    "    '500 to 999 employees':4,\n",
    "    '1,000 to 4,999 employees':5,\n",
    "    '5,000 to 9,999 employees':6,\n",
    "    '10,000 or more employees':7\n",
    "}\n",
    "df['CompanySize'] = df['CompanySize'].map(cs_map)"
   ]
  },
  {
   "cell_type": "code",
   "execution_count": 75,
   "metadata": {},
   "outputs": [
    {
     "name": "stdout",
     "output_type": "stream",
     "text": [
      "Moderately satisfied                  17213\n",
      "Extremely satisfied                    8348\n",
      "Slightly satisfied                     6411\n",
      "Slightly dissatisfied                  4675\n",
      "Moderately dissatisfied                4273\n",
      "Neither satisfied nor dissatisfied     2725\n",
      "Extremely dissatisfied                 1536\n",
      "Name: JobSatisfaction, dtype: int64\n"
     ]
    },
    {
     "data": {
      "text/plain": [
       "<matplotlib.axes._subplots.AxesSubplot at 0x1e618238c88>"
      ]
     },
     "execution_count": 75,
     "metadata": {},
     "output_type": "execute_result"
    },
    {
     "data": {
      "image/png": "[encoded data removed]",
      "text/plain": [
       "<Figure size 432x288 with 1 Axes>"
      ]
     },
     "metadata": {
      "needs_background": "light"
     },
     "output_type": "display_data"
    }
   ],
   "source": [
    "JobSatisfaction = df['JobSatisfaction'].value_counts()\n",
    "print(JobSatisfaction)\n",
    "sns.barplot(x = JobSatisfaction, y = JobSatisfaction.index)"
   ]
  },
  {
   "cell_type": "code",
   "execution_count": 76,
   "metadata": {},
   "outputs": [],
   "source": [
    "js_map = {\n",
    "    'Extremely dissatisfied':0,\n",
    "    'Moderately dissatisfied':1,\n",
    "    'Slightly dissatisfied':2,\n",
    "    'Neither satisfied nor dissatisfied':3,\n",
    "    'Slightly satisfied':4,\n",
    "    'Moderately satisfied':5,\n",
    "    'Extremely satisfied':6\n",
    "}\n",
    "df['JobSatisfaction'] = df['JobSatisfaction'].map(js_map)"
   ]
  },
  {
   "cell_type": "code",
   "execution_count": 77,
   "metadata": {},
   "outputs": [
    {
     "name": "stdout",
     "output_type": "stream",
     "text": [
      "9 - 12 hours        25655\n",
      "5 - 8 hours         13530\n",
      "Over 12 hours        6075\n",
      "1 - 4 hours           664\n",
      "Less than 1 hour       60\n",
      "Name: HoursComputer, dtype: int64\n"
     ]
    },
    {
     "data": {
      "text/plain": [
       "<matplotlib.axes._subplots.AxesSubplot at 0x1e614fa8f98>"
      ]
     },
     "execution_count": 77,
     "metadata": {},
     "output_type": "execute_result"
    },
    {
     "data": {
      "image/png": "[encoded data removed]",
      "text/plain": [
       "<Figure size 432x288 with 1 Axes>"
      ]
     },
     "metadata": {
      "needs_background": "light"
     },
     "output_type": "display_data"
    }
   ],
   "source": [
    "\n",
    "HoursComputer = df['HoursComputer'].value_counts()\n",
    "print(HoursComputer)\n",
    "sns.barplot(x = HoursComputer, y = HoursComputer.index)"
   ]
  },
  {
   "cell_type": "code",
   "execution_count": 78,
   "metadata": {},
   "outputs": [],
   "source": [
    "hc_map = {\n",
    "    'Less than 1 hour':0,\n",
    "    '1 - 4 hours':1,\n",
    "    '5 - 8 hours':2,\n",
    "    '9 - 12 hours':3,\n",
    "    'Over 12 hours':4\n",
    "}\n",
    "df['HoursComputer'] = df['HoursComputer'].map(hc_map)"
   ]
  },
  {
   "cell_type": "code",
   "execution_count": 79,
   "metadata": {},
   "outputs": [
    {
     "name": "stdout",
     "output_type": "stream",
     "text": [
      "1 - 2 hours             17415\n",
      "30 - 59 minutes         16380\n",
      "Less than 30 minutes     7715\n",
      "3 - 4 hours              3754\n",
      "Over 4 hours              666\n",
      "Name: HoursOutside, dtype: int64\n"
     ]
    },
    {
     "data": {
      "text/plain": [
       "<matplotlib.axes._subplots.AxesSubplot at 0x1e614e68828>"
      ]
     },
     "execution_count": 79,
     "metadata": {},
     "output_type": "execute_result"
    },
    {
     "data": {
      "image/png": "[encoded data removed]",
      "text/plain": [
       "<Figure size 432x288 with 1 Axes>"
      ]
     },
     "metadata": {
      "needs_background": "light"
     },
     "output_type": "display_data"
    }
   ],
   "source": [
    "HoursOutside = df['HoursOutside'].value_counts()\n",
    "print(HoursOutside)\n",
    "sns.barplot(x = HoursOutside, y = HoursOutside.index)"
   ]
  },
  {
   "cell_type": "code",
   "execution_count": 80,
   "metadata": {},
   "outputs": [],
   "source": [
    "ho_map = {\n",
    "    'Less than 30 minutes':0,\n",
    "    '30 - 59 minutes':1,\n",
    "    '1 - 2 hours':2,\n",
    "    '3 - 4 hours':3,\n",
    "    'Over 4 hours':4,\n",
    "}\n",
    "df['HoursOutside'] = df['HoursOutside'].map(ho_map)"
   ]
  },
  {
   "cell_type": "code",
   "execution_count": 81,
   "metadata": {},
   "outputs": [
    {
     "name": "stdout",
     "output_type": "stream",
     "text": [
      "Never                        30312\n",
      "1 - 2 times per week         10919\n",
      "3 - 4 times per week          2454\n",
      "Daily or almost every day     2240\n",
      "Name: SkipMeals, dtype: int64\n"
     ]
    }
   ],
   "source": [
    "print(df['SkipMeals'].value_counts())\n",
    "sm_map = {\n",
    "    'Never':0,\n",
    "    '1 - 2 times per week':1,\n",
    "    '3 - 4 times per week':2,\n",
    "    'Daily or almost every day':3\n",
    "}\n",
    "df['SkipMeals'] = df['SkipMeals'].map(sm_map)"
   ]
  },
  {
   "cell_type": "code",
   "execution_count": 82,
   "metadata": {},
   "outputs": [
    {
     "name": "stdout",
     "output_type": "stream",
     "text": [
      "I don't typically exercise    17097\n",
      "1 - 2 times per week          13445\n",
      "3 - 4 times per week           9465\n",
      "Daily or almost every day      5998\n",
      "Name: Exercise, dtype: int64\n"
     ]
    }
   ],
   "source": [
    "print(df ['Exercise'].value_counts())\n",
    "exer_map={\n",
    "    \"I don't typically exercise\":0,\n",
    "    '1 - 2 times per week': 1,\n",
    "    '3 - 4 times per week':2,\n",
    "    'Daily or almost every day':3\n",
    "}\n",
    "df ['Exercise'] = df ['Exercise'].map(exer_map)"
   ]
  },
  {
   "cell_type": "code",
   "execution_count": 83,
   "metadata": {},
   "outputs": [
    {
     "name": "stdout",
     "output_type": "stream",
     "text": [
      "6-8 years           10234\n",
      "3-5 years            9788\n",
      "9-11 years           7024\n",
      "12-14 years          4998\n",
      "15-17 years          3828\n",
      "0-2 years            3188\n",
      "18-20 years          3168\n",
      "30 or more years     2029\n",
      "21-23 years          1636\n",
      "24-26 years          1159\n",
      "27-29 years           631\n",
      "Name: YearsCoding, dtype: int64\n"
     ]
    }
   ],
   "source": [
    "\n",
    "print(df ['YearsCoding'].value_counts())\n",
    "yc_map = {\n",
    "    '0-2 years':0,\n",
    "    '3-5 years':1,\n",
    "    '6-8 years':2,\n",
    "    '9-11 years':3,\n",
    "    '12-14 years':4,\n",
    "    '15-17 years':5,\n",
    "    '18-20 years': 6,\n",
    "    '21-23 years': 7,\n",
    "    '24-26 years':8,\n",
    "    '27-29 years':9,\n",
    "    '30 or more years':10\n",
    "}\n",
    "df ['YearsCoding'] = df ['YearsCoding'].map(yc_map)"
   ]
  },
  {
   "cell_type": "code",
   "execution_count": 84,
   "metadata": {},
   "outputs": [
    {
     "name": "stdout",
     "output_type": "stream",
     "text": [
      "Moderately satisfied                  18071\n",
      "Extremely satisfied                    9221\n",
      "Slightly satisfied                     8250\n",
      "Slightly dissatisfied                  3941\n",
      "Moderately dissatisfied                3109\n",
      "Neither satisfied nor dissatisfied     3011\n",
      "Extremely dissatisfied                 1362\n",
      "Name: CareerSatisfaction, dtype: int64\n"
     ]
    }
   ],
   "source": [
    "print(df ['CareerSatisfaction'].value_counts())\n",
    "df['CareerSatisfaction'] = df['CareerSatisfaction'].map(js_map)"
   ]
  },
  {
   "cell_type": "code",
   "execution_count": 85,
   "metadata": {},
   "outputs": [
    {
     "name": "stdout",
     "output_type": "stream",
     "text": [
      "3-5 years           13190\n",
      "0-2 years           11547\n",
      "6-8 years            7465\n",
      "9-11 years           5226\n",
      "12-14 years          2918\n",
      "15-17 years          2080\n",
      "18-20 years          1947\n",
      "21-23 years           914\n",
      "30 or more years      774\n",
      "24-26 years           572\n",
      "27-29 years           332\n",
      "Name: YearsCodingProf, dtype: int64\n"
     ]
    }
   ],
   "source": [
    "print(df['YearsCodingProf'].value_counts())\n",
    "df['YearsCodingProf'] = df['YearsCodingProf'].map(yc_map)"
   ]
  },
  {
   "cell_type": "code",
   "execution_count": 86,
   "metadata": {},
   "outputs": [],
   "source": [
    "df['OpenSource'] = label_binarize(df['OpenSource'], classes =['Yes', 'No'])\n",
    "s = df['DevType'].str.split(';')\n",
    "s_d = pd.get_dummies(s.apply(pd.Series).stack()).sum(level=0)\n",
    "for col in s_d.columns:\n",
    "    df[col] = s_d[col]\n",
    "df = df.dropna()\n",
    "X = df.drop(['ConvertedSalary', 'Employment', 'DevType'], axis=1)\n",
    "y = df['ConvertedSalary']\n",
    "\n",
    "#X = X.apply(lambda col: col.fillna(col.mode()))\n",
    "scalary = MinMaxScaler()\n",
    "scalarx = MinMaxScaler()\n",
    "\n",
    "y = scalary.fit_transform(y.values.reshape(-1, 1)).reshape(-1)\n",
    "X = scalarx.fit_transform(X.values)"
   ]
  },
  {
   "cell_type": "markdown",
   "metadata": {},
   "source": [
    "## 2. Build the model <a name=\"model\">"
   ]
  },
  {
   "cell_type": "code",
   "execution_count": 87,
   "metadata": {},
   "outputs": [
    {
     "name": "stdout",
     "output_type": "stream",
     "text": [
      "0.021078990461186775\n",
      "0.0115207238048078\n"
     ]
    }
   ],
   "source": [
    "X_train, X_test, y_train, y_test = train_test_split(X, y, test_size = .30)\n",
    "lm_model = AdaBoostRegressor(n_estimators=250, learning_rate=0.001) # Here you could set any hyperparameters of your model\n",
    "lm_model.fit(X_train, y_train) # If this model was to predict for new individuals, we probably would want\n",
    "y_test_preds = lm_model.predict(X_test) #We can then use our fitted model to predict the salary for each\n",
    "                                        #indvidual in our test set, and see how well these predictions\n",
    "                                        #match the truth.\n",
    "\n",
    "print(r2_score(y_test, y_test_preds)) #In this case we are predicting a continuous, numeric response.  Therefore, common\n",
    "print(mean_squared_error(y_test, y_test_preds)) #metrics to assess fit include Rsquared and MSE."
   ]
  },
  {
   "cell_type": "code",
   "execution_count": 88,
   "metadata": {},
   "outputs": [
    {
     "name": "stderr",
     "output_type": "stream",
     "text": [
      "C:\\Users\\Administrator\\Anaconda3\\lib\\site-packages\\sklearn\\svm\\base.py:196: FutureWarning: The default value of gamma will change from 'auto' to 'scale' in version 0.22 to account better for unscaled features. Set gamma explicitly to 'auto' or 'scale' to avoid this warning.\n",
      "  \"avoid this warning.\", FutureWarning)\n"
     ]
    },
    {
     "name": "stdout",
     "output_type": "stream",
     "text": [
      "-0.256461409003774\n",
      "0.014787040755567924\n"
     ]
    }
   ],
   "source": [
    "clf_SVR = SVR()\n",
    "clf_SVR.fit(X_train, y_train) # If this model was to predict for new individuals, we probably would want\n",
    "y_test_preds = clf_SVR.predict(X_test) #We can then use our fitted model to predict the salary for each\n",
    "                                        #indvidual in our test set, and see how well these predictions\n",
    "                                        #match the truth.\n",
    "\n",
    "print(r2_score(y_test, y_test_preds)) #In this case we are predicting a continuous, numeric response.  Therefore, common\n",
    "print(mean_squared_error(y_test, y_test_preds)) #metrics to assess fit include Rsquared and MSE."
   ]
  },
  {
   "cell_type": "code",
   "execution_count": 89,
   "metadata": {},
   "outputs": [
    {
     "name": "stdout",
     "output_type": "stream",
     "text": [
      "-0.2508749939352819\n",
      "0.014721295364023581\n"
     ]
    }
   ],
   "source": [
    "clf_SVR_l = SVR(kernel='linear')\n",
    "clf_SVR_l.fit(X_train, y_train) # If this model was to predict for new individuals, we probably would want\n",
    "y_test_preds = clf_SVR_l.predict(X_test) #We can then use our fitted model to predict the salary for each\n",
    "                                        #indvidual in our test set, and see how well these predictions\n",
    "                                        #match the truth.\n",
    "\n",
    "print(r2_score(y_test, y_test_preds)) #In this case we are predicting a continuous, numeric response.  Therefore, common\n",
    "print(mean_squared_error(y_test, y_test_preds)) #metrics to assess fit include Rsquared and MSE."
   ]
  },
  {
   "cell_type": "code",
   "execution_count": 90,
   "metadata": {},
   "outputs": [
    {
     "name": "stdout",
     "output_type": "stream",
     "text": [
      "0.02761640710169322\n",
      "0.01144378626768444\n"
     ]
    }
   ],
   "source": [
    "lm_model = LinearRegression() # Here you could set any hyperparameters of your model\n",
    "lm_model.fit(X_train, y_train) # If this model was to predict for new individuals, we probably would want\n",
    "y_test_preds = lm_model.predict(X_test) #We can then use our fitted model to predict the salary for each\n",
    "                                        #indvidual in our test set, and see how well these predictions\n",
    "                                        #match the truth.\n",
    "y_train_preds = lm_model.predict(X_train)\n",
    "print(r2_score(y_test, y_test_preds)) #In this case we are predicting a continuous, numeric response.  Therefore, common\n",
    "print(mean_squared_error(y_test, y_test_preds)) #metrics to assess fit include Rsquared and MSE."
   ]
  },
  {
   "cell_type": "markdown",
   "metadata": {},
   "source": [
    "## 3. analysis predict model <a name=\"analysis\">"
   ]
  },
  {
   "cell_type": "code",
   "execution_count": 92,
   "metadata": {},
   "outputs": [],
   "source": [
    "influence = pd.DataFrame(lm_model.coef_, index = df.drop(['ConvertedSalary', 'Employment', 'DevType'], axis=1).columns)"
   ]
  },
  {
   "cell_type": "code",
   "execution_count": 93,
   "metadata": {},
   "outputs": [
    {
     "data": {
      "text/plain": [
       "<matplotlib.axes._subplots.AxesSubplot at 0x1e6277aa6a0>"
      ]
     },
     "execution_count": 93,
     "metadata": {},
     "output_type": "execute_result"
    },
    {
     "data": {
      "image/png": "[encoded data removed]",
      "text/plain": [
       "<Figure size 432x288 with 1 Axes>"
      ]
     },
     "metadata": {
      "needs_background": "light"
     },
     "output_type": "display_data"
    }
   ],
   "source": [
    "influence.sort_values(0, ascending=False).head().plot.bar()"
   ]
  },
  {
   "cell_type": "code",
   "execution_count": 94,
   "metadata": {},
   "outputs": [
    {
     "data": {
      "text/plain": [
       "<matplotlib.axes._subplots.AxesSubplot at 0x1e627592cc0>"
      ]
     },
     "execution_count": 94,
     "metadata": {},
     "output_type": "execute_result"
    },
    {
     "data": {
      "image/png": "[encoded data removed]",
      "text/plain": [
       "<Figure size 1440x1800 with 1 Axes>"
      ]
     },
     "metadata": {
      "needs_background": "light"
     },
     "output_type": "display_data"
    }
   ],
   "source": [
    "plt.figure(figsize=(20,25))\n",
    "sns.barplot(influence.sort_values(0, ascending=False).values.reshape(-1), influence.index)"
   ]
  },
  {
   "cell_type": "markdown",
   "metadata": {},
   "source": [
    "## 4. Reviews <a name=\"review\">\n",
    "\n",
    "Easy ML predict don't make well response. But from result linear regression, We can see that open source contributation make big influence to the final salary, work hard is the same thing."
   ]
  },
  {
   "cell_type": "code",
   "execution_count": null,
   "metadata": {},
   "outputs": [],
   "source": []
  }
 ],
 "metadata": {
  "kernelspec": {
   "display_name": "Python 3",
   "language": "python",
   "name": "python3"
  },
  "language_info": {
   "codemirror_mode": {
    "name": "ipython",
    "version": 3
   },
   "file_extension": ".py",
   "mimetype": "text/x-python",
   "name": "python",
   "nbconvert_exporter": "python",
   "pygments_lexer": "ipython3",
   "version": "3.7.3"
  }
 },
 "nbformat": 4,
 "nbformat_minor": 2
}
